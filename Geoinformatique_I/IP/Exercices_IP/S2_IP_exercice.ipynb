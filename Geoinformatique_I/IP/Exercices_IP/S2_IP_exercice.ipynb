{
  "cells": [
    {
      "cell_type": "markdown",
      "metadata": {
        "id": "view-in-github",
        "colab_type": "text"
      },
      "source": [
        "<a href=\"https://colab.research.google.com/github/Quino2201/2024_Geoinformatique_I/blob/main/Geoinformatique_I/IP/Exercices_IP/S2_IP_exercice.ipynb\" target=\"_parent\"><img src=\"https://colab.research.google.com/assets/colab-badge.svg\" alt=\"Open In Colab\"/></a>"
      ]
    },
    {
      "cell_type": "markdown",
      "metadata": {
        "id": "ZXnjONpwCaJ5"
      },
      "source": [
        "# Exercice 2 - Structure de contrôle"
      ]
    },
    {
      "cell_type": "markdown",
      "metadata": {
        "id": "OyMIBjQrCaJ6"
      },
      "source": [
        "## Conditions if, else, elif"
      ]
    },
    {
      "cell_type": "code",
      "execution_count": 8,
      "metadata": {
        "id": "wkrwV1yvjW3-",
        "colab": {
          "base_uri": "https://localhost:8080/"
        },
        "outputId": "f269eff8-c8b3-4c82-d3ca-73409ddab285"
      },
      "outputs": [
        {
          "output_type": "stream",
          "name": "stdout",
          "text": [
            "Impaire\n"
          ]
        }
      ],
      "source": [
        "# Ecrivez votre code ici\n",
        "nombre = 10 #Entrez un nombre entier\n",
        "\n",
        "if 10 % 2 == 5 :\n",
        "    print(\"Pair\")\n",
        "else:\n",
        "    print(\"Impaire\")"
      ]
    },
    {
      "cell_type": "markdown",
      "metadata": {
        "id": "caKuJ59zjW39"
      },
      "source": [
        "**1. Vérification de la parité**"
      ]
    },
    {
      "cell_type": "markdown",
      "metadata": {
        "id": "b1goU-5bjW3_"
      },
      "source": [
        "**2. Comparaison de deux nombres**"
      ]
    },
    {
      "cell_type": "code",
      "execution_count": 6,
      "metadata": {
        "id": "SkjaBcb-jW3_",
        "colab": {
          "base_uri": "https://localhost:8080/"
        },
        "outputId": "fed95895-2e00-4f57-a04b-dac6e37cb6bf"
      },
      "outputs": [
        {
          "output_type": "stream",
          "name": "stdout",
          "text": [
            "Le premier nombre est plus grand.\n"
          ]
        }
      ],
      "source": [
        "nombre1 = 15.15 #Entrez un chiffre à virgule\n",
        "nombre2 = 4.58 #Entrez un deuxième chiffre à virgule\n",
        "\n",
        "if 15.15 > 4.58:\n",
        "    print(\"Le premier nombre est plus grand.\")\n",
        "elif 4.58 > 15.15:\n",
        "    print(\"Le deuxième nombre est plus grand.\")\n",
        "else:\n",
        "    print(\"Les deux nombres sont égaux\")"
      ]
    },
    {
      "cell_type": "markdown",
      "metadata": {
        "id": "gkNLNNSNjW3_"
      },
      "source": [
        "**3. Catégorisation d'âges**"
      ]
    },
    {
      "cell_type": "code",
      "execution_count": 9,
      "metadata": {
        "id": "h1AnFjiKjW4A",
        "colab": {
          "base_uri": "https://localhost:8080/"
        },
        "outputId": "2fa30da6-f377-4425-fc89-23c0a47faadd"
      },
      "outputs": [
        {
          "output_type": "stream",
          "name": "stdout",
          "text": [
            "Adulte\n"
          ]
        }
      ],
      "source": [
        "age =  22 # Entrez un nombre entier\n",
        "if 22 < 12:\n",
        "    print(\"Enfant\")\n",
        "elif 12 <= 22 < 18:\n",
        "    print(\"Adolescent\")\n",
        "elif 18 <= 22 < 65:\n",
        "    print(\"Adulte\")\n",
        "else:\n",
        "    print(\"Senior\")\n"
      ]
    },
    {
      "cell_type": "markdown",
      "metadata": {
        "id": "agjI6dl_CaJ7"
      },
      "source": [
        "## Boucle for et while"
      ]
    },
    {
      "cell_type": "markdown",
      "metadata": {
        "id": "jbGswyVvjW4A"
      },
      "source": [
        "**1. Ecrire une boucle `while` pour afficher les valeurs des classements d'une liste de lecture d'albums stockée dans la liste <code>PlayListRatings</code>. Si le score est inférieur à 6, on sort de la boucle. La liste <code>PlayListRatings</code> est donnée par : <code>PlayListRatings = [10, 9.5, 10, 8, 7.5, 5, 10, 10]</code>**"
      ]
    },
    {
      "cell_type": "code",
      "execution_count": 20,
      "metadata": {
        "id": "ploHyFu2jW4A",
        "colab": {
          "base_uri": "https://localhost:8080/"
        },
        "outputId": "b7edcacd-3713-4f88-d8d3-e1867cbb7fca"
      },
      "outputs": [
        {
          "output_type": "stream",
          "name": "stdout",
          "text": [
            "10\n",
            "9.5\n",
            "10\n",
            "8\n",
            "7.5\n",
            "10\n",
            "10\n"
          ]
        }
      ],
      "source": [
        "from typing_extensions import Counter\n",
        "# Ecrivez votre code ici\n",
        "PlayListRating = [10, 9.5, 10, 8, 7.5, 5, 10, 10]\n",
        "\n",
        "# Astuce : Utilisez l'indexation de la liste comme critère (longueur de votre liste)\n",
        "indx = 0\n",
        "while indx < len(PlayListRating):\n",
        "  if PlayListRating [indx] < 6:\n",
        "    pass\n",
        "  else:\n",
        "    print(PlayListRating[indx])\n",
        "  indx +=1"
      ]
    },
    {
      "cell_type": "markdown",
      "metadata": {
        "id": "WHXaD4_3jW4A"
      },
      "source": [
        "**2. Répétez ce que vous venez de faire, cette fois en utilisant une boucle `for`**."
      ]
    },
    {
      "cell_type": "code",
      "execution_count": 19,
      "metadata": {
        "id": "CIgtC_4zjW4A",
        "colab": {
          "base_uri": "https://localhost:8080/"
        },
        "outputId": "27ef3582-44d8-4163-c983-9e300efada64"
      },
      "outputs": [
        {
          "output_type": "stream",
          "name": "stdout",
          "text": [
            "10\n",
            "9.5\n",
            "10\n",
            "8\n",
            "7.5\n",
            "10\n",
            "10\n"
          ]
        }
      ],
      "source": [
        "for indx in range(len(PlayListRating)):\n",
        "  if PlayListRating[indx]<6:\n",
        "    indx\n",
        "  else:\n",
        "    print(PlayListRating[indx])"
      ]
    },
    {
      "cell_type": "markdown",
      "metadata": {
        "id": "VZQhdaf5jW4B"
      },
      "source": [
        "**3. Ecrivez une boucle `for` qui imprime (affiche) la liste suivante : <code>carres=['rouge', 'jaune', 'vert', 'violet', 'bleu']</code>**"
      ]
    },
    {
      "cell_type": "code",
      "execution_count": 21,
      "metadata": {
        "id": "kh8TmInPjW4B",
        "colab": {
          "base_uri": "https://localhost:8080/"
        },
        "outputId": "ddf0eac5-0b56-4848-a880-20c67a35ca20"
      },
      "outputs": [
        {
          "output_type": "stream",
          "name": "stdout",
          "text": [
            "rouge\n",
            "jaune\n",
            "vert\n",
            "violet\n",
            "bleu\n"
          ]
        }
      ],
      "source": [
        "carres = ['rouge', 'jaune', 'vert', 'violet', 'bleu'] # An empty list\n",
        "for index,carres in enumerate(['rouge', 'jaune', 'vert', 'violet', 'bleu']):\n",
        "    print(carres)"
      ]
    }
  ],
  "metadata": {
    "colab": {
      "provenance": [],
      "include_colab_link": true
    },
    "kernelspec": {
      "display_name": "imports_TM",
      "language": "python",
      "name": "python3"
    },
    "language_info": {
      "name": "python",
      "version": "3.9.18"
    }
  },
  "nbformat": 4,
  "nbformat_minor": 0
}